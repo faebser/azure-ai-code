{
 "cells": [
  {
   "cell_type": "code",
   "execution_count": 8,
   "id": "provincial-violation",
   "metadata": {},
   "outputs": [
    {
     "name": "stderr",
     "output_type": "stream",
     "text": [
      "Setting `pad_token_id` to `eos_token_id`:50256 for open-end generation.\n"
     ]
    },
    {
     "name": "stdout",
     "output_type": "stream",
     "text": [
      "['ANDES\\' STORE ( 2 km ) à 14 kilomètres. Le point le plus bas ( 19m ) correspond à la sortie du glacier du Touvet. Sur demande ou après examen, il vous sera proposé une offre d\\' emploi à la carte. L\\' ancien sélectionneur de l\\' équipe de France de football ( 1996-2003 ) a signé jeudi un \" contrat de deux ans \" qui lui permettra de revenir à la compétition en mars prochain. Les deux compères ont dû être emmenés à l\\'']\n"
     ]
    }
   ],
   "source": [
    "import torch\n",
    "from transformers import GPT2Tokenizer, GPT2LMHeadModel\n",
    "import random\n",
    "\n",
    "# Load pretrained model and tokenizer\n",
    "model = GPT2LMHeadModel.from_pretrained(\"antoiloui/belgpt2\")\n",
    "tokenizer = GPT2Tokenizer.from_pretrained(\"antoiloui/belgpt2\")\n",
    "\n",
    "# Generate a sample of text\n",
    "model.eval()\n",
    "output = model.generate(\n",
    "            bos_token_id=random.randint(1,50000),\n",
    "            do_sample=True,   \n",
    "            top_k=50, \n",
    "            max_length=100,\n",
    "            top_p=0.95, \n",
    "            num_return_sequences=1\n",
    ")\n",
    "\n",
    "# Decode it\n",
    "decoded_output = []\n",
    "for sample in output:\n",
    "    decoded_output.append(tokenizer.decode(sample, skip_special_tokens=True))\n",
    "print(decoded_output)"
   ]
  },
  {
   "cell_type": "code",
   "execution_count": null,
   "id": "continental-wellington",
   "metadata": {},
   "outputs": [],
   "source": []
  }
 ],
 "metadata": {
  "kernelspec": {
   "display_name": "py37_pytorch",
   "language": "python",
   "name": "conda-env-py37_pytorch-py"
  },
  "language_info": {
   "codemirror_mode": {
    "name": "ipython",
    "version": 3
   },
   "file_extension": ".py",
   "mimetype": "text/x-python",
   "name": "python",
   "nbconvert_exporter": "python",
   "pygments_lexer": "ipython3",
   "version": "3.7.9"
  }
 },
 "nbformat": 4,
 "nbformat_minor": 5
}
